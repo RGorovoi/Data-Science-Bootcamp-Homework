{
  "nbformat": 4,
  "nbformat_minor": 0,
  "metadata": {
    "colab": {
      "provenance": []
    },
    "kernelspec": {
      "name": "python3",
      "display_name": "Python 3"
    },
    "language_info": {
      "name": "python"
    }
  },
  "cells": [
    {
      "cell_type": "markdown",
      "source": [
        "Homework #1 for Data Science Bootcamp Session 2\n",
        "Rami Gorovoi-Abu Hashish"
      ],
      "metadata": {
        "id": "lNCe_zE0yIIs"
      }
    },
    {
      "cell_type": "code",
      "source": [
        "# Write a program that takes a word as an input and print the number of vowels in the word.\n",
        "\n",
        "def vowel_checker(word):\n",
        "    vowels = 'aeiouAEIOU'\n",
        "    return sum(1 for char in word if char in vowels)\n",
        "\n",
        "user_input = input(\"Enter a word: \")\n",
        "\n",
        "print(\"There are\", vowel_checker(user_input), 'vowels in', user_input)"
      ],
      "metadata": {
        "colab": {
          "base_uri": "https://localhost:8080/"
        },
        "id": "wFzHWberxx4u",
        "outputId": "1ea6a5bb-acf1-4465-b9c9-7aa3d7973e8c"
      },
      "execution_count": 99,
      "outputs": [
        {
          "output_type": "stream",
          "name": "stdout",
          "text": [
            "Enter a word: hello\n",
            "There are 2 vowels in hello\n"
          ]
        }
      ]
    },
    {
      "cell_type": "code",
      "source": [
        "# Iterate through the following list of animals and print each one in all caps.\n",
        "# animals=['tiger', 'elephant', 'monkey', 'zebra', 'panther']\n",
        "\n",
        "animals = ['tiger', 'elephant', 'monkey', 'zebra', 'panther']\n",
        "for animal in animals:\n",
        "  print(animal.upper())"
      ],
      "metadata": {
        "colab": {
          "base_uri": "https://localhost:8080/"
        },
        "id": "Uejjesu8x1Xk",
        "outputId": "32b2f440-f933-4018-d972-05059bc24629"
      },
      "execution_count": 100,
      "outputs": [
        {
          "output_type": "stream",
          "name": "stdout",
          "text": [
            "TIGER\n",
            "ELEPHANT\n",
            "MONKEY\n",
            "ZEBRA\n",
            "PANTHER\n"
          ]
        }
      ]
    },
    {
      "cell_type": "code",
      "source": [
        "# Write a program that iterates from 1 to 20, printing each number and whether it's odd or even.\n",
        "\n",
        "for i in range(1,21):\n",
        "  if i % 2 == 0:\n",
        "    print (i, \"is even\")\n",
        "  else:\n",
        "    print (i, \"is odd\")"
      ],
      "metadata": {
        "colab": {
          "base_uri": "https://localhost:8080/"
        },
        "id": "i0UtlMUCyBlR",
        "outputId": "f0b64140-972e-4ffc-a893-455bf77063b8"
      },
      "execution_count": 101,
      "outputs": [
        {
          "output_type": "stream",
          "name": "stdout",
          "text": [
            "1 is odd\n",
            "2 is even\n",
            "3 is odd\n",
            "4 is even\n",
            "5 is odd\n",
            "6 is even\n",
            "7 is odd\n",
            "8 is even\n",
            "9 is odd\n",
            "10 is even\n",
            "11 is odd\n",
            "12 is even\n",
            "13 is odd\n",
            "14 is even\n",
            "15 is odd\n",
            "16 is even\n",
            "17 is odd\n",
            "18 is even\n",
            "19 is odd\n",
            "20 is even\n"
          ]
        }
      ]
    },
    {
      "cell_type": "code",
      "source": [
        "# Write a program to check if a string is a palindrome or not.\n",
        "\n",
        "def palindrome_checker(word):\n",
        "  return word == word[::-1]\n",
        "\n",
        "user_input = input(\"Enter a word: \")\n",
        "\n",
        "if palindrome_checker(user_input):\n",
        "  print(user_input, \"is a palindrome\")\n",
        "else:\n",
        "  print(user_input, \"is not a palindrome\")"
      ],
      "metadata": {
        "colab": {
          "base_uri": "https://localhost:8080/"
        },
        "id": "vFEwZgMdx1fk",
        "outputId": "ed3854a5-8cad-4f0d-e6aa-0f812e1503e2"
      },
      "execution_count": 102,
      "outputs": [
        {
          "output_type": "stream",
          "name": "stdout",
          "text": [
            "Enter a word: race\n",
            "race is not a palindrome\n"
          ]
        }
      ]
    },
    {
      "cell_type": "code",
      "source": [
        "# Write a function *sum_of_integers(a, b)* that takes two integers as input from the user and returns their sum. (optional)\n",
        "\n",
        "def sum_of_integers(a, b):\n",
        "  return a + b\n",
        "\n",
        "input_a = int(input(\"Enter a number: \"))\n",
        "input_b = int(input(\"Enter a number: \"))\n",
        "\n",
        "print(\"The sum of both numbers is:\", sum_of_integers(input_a, input_b))"
      ],
      "metadata": {
        "colab": {
          "base_uri": "https://localhost:8080/"
        },
        "id": "bOopQM2Cx1mN",
        "outputId": "09315071-02e1-40bd-fbaf-cdbf5f950caf"
      },
      "execution_count": 103,
      "outputs": [
        {
          "output_type": "stream",
          "name": "stdout",
          "text": [
            "Enter a number: 6\n",
            "Enter a number: 7\n",
            "The sum of both numbers is: 13\n"
          ]
        }
      ]
    }
  ]
}