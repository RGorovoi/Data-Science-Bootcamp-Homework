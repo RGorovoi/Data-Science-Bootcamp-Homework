{
  "nbformat": 4,
  "nbformat_minor": 0,
  "metadata": {
    "colab": {
      "provenance": []
    },
    "kernelspec": {
      "name": "python3",
      "display_name": "Python 3"
    },
    "language_info": {
      "name": "python"
    }
  },
  "cells": [
    {
      "cell_type": "markdown",
      "source": [
        "Homework #1 for Data Science Bootcamp Session 2 |\n",
        "Rami Gorovoi-Abu Hashish"
      ],
      "metadata": {
        "id": "AueXa3uQ8O0E"
      }
    },
    {
      "cell_type": "markdown",
      "source": [
        "Numpy Problems"
      ],
      "metadata": {
        "id": "TyCICpyI8ZFk"
      }
    },
    {
      "cell_type": "code",
      "execution_count": null,
      "metadata": {
        "colab": {
          "base_uri": "https://localhost:8080/"
        },
        "id": "PqDyUesH7Qtr",
        "outputId": "cc6d986c-844c-40eb-f994-ae50963bee28"
      },
      "outputs": [
        {
          "output_type": "stream",
          "name": "stdout",
          "text": [
            "[[1 2 3 4]\n",
            " [5 6 7 8]]\n",
            "[1 2 3 4 5 6 7 8]\n"
          ]
        }
      ],
      "source": [
        "# 1) Define two custom numpy arrays, say A and B. Generate two new numpy arrays by stacking A and B vertically and horizontally.\n",
        "\n",
        "import numpy as np\n",
        "\n",
        "A = np.array([1,2,3,4])\n",
        "B = np.array([5,6,7,8])\n",
        "\n",
        "vertical_stack = np.vstack((A, B))\n",
        "horizontal_stack = np.hstack((A, B))\n",
        "\n",
        "print(vertical_stack)\n",
        "print(horizontal_stack)"
      ]
    },
    {
      "cell_type": "code",
      "source": [
        "# 2) Find common elements between A and B. [Hint : Intersection of two sets]\n",
        "\n",
        "import numpy as np\n",
        "\n",
        "A = np.array([1,2,3,4,8,6,3,9,1])\n",
        "B = np.array([5,6,7,8,4,8,0,9,2])\n",
        "\n",
        "common_elements = np.intersect1d(A, B)\n",
        "\n",
        "print(common_elements)"
      ],
      "metadata": {
        "colab": {
          "base_uri": "https://localhost:8080/"
        },
        "id": "QmtJeOag8i-T",
        "outputId": "4d03aa69-1ef8-4dfe-c13b-7582300f2696"
      },
      "execution_count": null,
      "outputs": [
        {
          "output_type": "stream",
          "name": "stdout",
          "text": [
            "[2 4 6 8 9]\n"
          ]
        }
      ]
    },
    {
      "cell_type": "code",
      "source": [
        "# 3) Extract all numbers from A which are within a specific range. eg between 5 and 10. [Hint: np.where() might be useful or boolean masks]\n",
        "\n",
        "import numpy as np\n",
        "\n",
        "A = np.array([1,2,3,4,8,6,3,9,1])\n",
        "B = np.array([5,6,7,8,4,8,0,9,2])\n",
        "\n",
        "range = A[(A >= 5) & (A <= 10)]\n",
        "\n",
        "print(range)"
      ],
      "metadata": {
        "colab": {
          "base_uri": "https://localhost:8080/"
        },
        "id": "9i9I1rzH8jOs",
        "outputId": "31224164-fe7b-4cf9-a65e-19ac68e7583e"
      },
      "execution_count": null,
      "outputs": [
        {
          "output_type": "stream",
          "name": "stdout",
          "text": [
            "[8 6 9]\n"
          ]
        }
      ]
    },
    {
      "cell_type": "code",
      "source": [
        "# 4) Filter the rows of iris_2d that has petallength (3rd column) > 1.5 and sepallength (1st column) < 5.0\n",
        "# url = 'https://archive.ics.uci.edu/ml/machine-learning-databases/iris/iris.data'\n",
        "# iris_2d = np.genfromtxt(url, delimiter=',', dtype='float', usecols=[0,1,2,3])\n",
        "\n",
        "import numpy as np\n",
        "\n",
        "url = 'https://archive.ics.uci.edu/ml/machine-learning-databases/iris/iris.data'\n",
        "iris_2d = np.genfromtxt(url, delimiter=',', dtype='float', usecols=[0,1,2,3])\n",
        "\n",
        "mask = (iris_2d[:, 0] < 5.0) & (iris_2d[:,2] > 1.5)\n",
        "\n",
        "iris_2d_filter = iris_2d[mask]\n",
        "\n",
        "print(iris_2d_filter)"
      ],
      "metadata": {
        "colab": {
          "base_uri": "https://localhost:8080/"
        },
        "id": "TSOPM5jj8jdK",
        "outputId": "fe835520-d0bf-4501-baa2-342c4a172d36"
      },
      "execution_count": null,
      "outputs": [
        {
          "output_type": "stream",
          "name": "stdout",
          "text": [
            "[[4.8 3.4 1.6 0.2]\n",
            " [4.8 3.4 1.9 0.2]\n",
            " [4.7 3.2 1.6 0.2]\n",
            " [4.8 3.1 1.6 0.2]\n",
            " [4.9 2.4 3.3 1. ]\n",
            " [4.9 2.5 4.5 1.7]]\n"
          ]
        }
      ]
    },
    {
      "cell_type": "markdown",
      "source": [
        "Pandas Problems"
      ],
      "metadata": {
        "id": "fD_WO1RF8jtE"
      }
    },
    {
      "cell_type": "code",
      "source": [
        "# 1) From df filter the 'Manufacturer', 'Model' and 'Type' for every 20th row starting from 1st (row 0).\n",
        "# df = pd.read_csv('https://raw.githubusercontent.com/selva86/datasets/master/Cars93_miss.csv')\n",
        "\n",
        "import pandas as pd\n",
        "df = pd.read_csv('https://raw.githubusercontent.com/selva86/datasets/master/Cars93_miss.csv')\n",
        "\n",
        "filter = df.iloc[::20][['Manufacturer','Model','Type']]\n",
        "print(filter)\n"
      ],
      "metadata": {
        "id": "5KDbzZGZ8j7m",
        "colab": {
          "base_uri": "https://localhost:8080/"
        },
        "outputId": "65a67b90-748e-4644-bdd7-d85b15282a00"
      },
      "execution_count": 7,
      "outputs": [
        {
          "output_type": "stream",
          "name": "stdout",
          "text": [
            "   Manufacturer    Model     Type\n",
            "0         Acura  Integra    Small\n",
            "20     Chrysler  LeBaron  Compact\n",
            "40        Honda  Prelude   Sporty\n",
            "60      Mercury   Cougar  Midsize\n",
            "80       Subaru   Loyale    Small\n"
          ]
        }
      ]
    },
    {
      "cell_type": "code",
      "source": [
        "# 2) Replace missing values in Min.Price and Max.Price columns with their respective mean.\n",
        "# df = pd.read_csv('https://raw.githubusercontent.com/selva86/datasets/master/Cars93_miss.csv')\n",
        "\n",
        "import pandas as pd\n",
        "df = pd.read_csv('https://raw.githubusercontent.com/selva86/datasets/master/Cars93_miss.csv')\n",
        "\n",
        "df['Min.Price'].fillna(df['Min.Price'].mean(), inplace=True)\n",
        "df['Max.Price'].fillna(df['Max.Price'].mean(), inplace=True)\n",
        "\n",
        "print(df)"
      ],
      "metadata": {
        "id": "zlSzilCz8kGD",
        "colab": {
          "base_uri": "https://localhost:8080/"
        },
        "outputId": "0d2ccd63-819e-40ac-f0ac-8e6ed9157a45"
      },
      "execution_count": 8,
      "outputs": [
        {
          "output_type": "stream",
          "name": "stdout",
          "text": [
            "   Manufacturer    Model     Type  Min.Price  Price  Max.Price  MPG.city  \\\n",
            "0         Acura  Integra    Small  12.900000   15.9  18.800000      25.0   \n",
            "1           NaN   Legend  Midsize  29.200000   33.9  38.700000      18.0   \n",
            "2          Audi       90  Compact  25.900000   29.1  32.300000      20.0   \n",
            "3          Audi      100  Midsize  17.118605   37.7  44.600000      19.0   \n",
            "4           BMW     535i  Midsize  17.118605   30.0  21.459091      22.0   \n",
            "..          ...      ...      ...        ...    ...        ...       ...   \n",
            "88   Volkswagen  Eurovan      Van  16.600000   19.7  22.700000      17.0   \n",
            "89   Volkswagen   Passat  Compact  17.600000   20.0  22.400000      21.0   \n",
            "90   Volkswagen  Corrado   Sporty  22.900000   23.3  23.700000      18.0   \n",
            "91        Volvo      240  Compact  21.800000   22.7  23.500000      21.0   \n",
            "92          NaN      850  Midsize  24.800000   26.7  28.500000      20.0   \n",
            "\n",
            "    MPG.highway             AirBags DriveTrain  ... Passengers  Length  \\\n",
            "0          31.0                 NaN      Front  ...        5.0   177.0   \n",
            "1          25.0  Driver & Passenger      Front  ...        5.0   195.0   \n",
            "2          26.0         Driver only      Front  ...        5.0   180.0   \n",
            "3          26.0  Driver & Passenger        NaN  ...        6.0   193.0   \n",
            "4          30.0                 NaN       Rear  ...        4.0   186.0   \n",
            "..          ...                 ...        ...  ...        ...     ...   \n",
            "88         21.0                 NaN      Front  ...        7.0   187.0   \n",
            "89         30.0                 NaN      Front  ...        5.0   180.0   \n",
            "90         25.0                 NaN      Front  ...        4.0   159.0   \n",
            "91         28.0         Driver only       Rear  ...        5.0   190.0   \n",
            "92         28.0  Driver & Passenger      Front  ...        5.0   184.0   \n",
            "\n",
            "    Wheelbase  Width  Turn.circle Rear.seat.room  Luggage.room  Weight  \\\n",
            "0       102.0   68.0         37.0           26.5           NaN  2705.0   \n",
            "1       115.0   71.0         38.0           30.0          15.0  3560.0   \n",
            "2       102.0   67.0         37.0           28.0          14.0  3375.0   \n",
            "3       106.0    NaN         37.0           31.0          17.0  3405.0   \n",
            "4       109.0   69.0         39.0           27.0          13.0  3640.0   \n",
            "..        ...    ...          ...            ...           ...     ...   \n",
            "88      115.0   72.0         38.0           34.0           NaN  3960.0   \n",
            "89      103.0   67.0         35.0           31.5          14.0  2985.0   \n",
            "90       97.0   66.0         36.0           26.0          15.0  2810.0   \n",
            "91      104.0   67.0         37.0           29.5          14.0  2985.0   \n",
            "92      105.0   69.0         38.0           30.0          15.0  3245.0   \n",
            "\n",
            "     Origin                Make  \n",
            "0   non-USA       Acura Integra  \n",
            "1   non-USA        Acura Legend  \n",
            "2   non-USA             Audi 90  \n",
            "3   non-USA            Audi 100  \n",
            "4   non-USA            BMW 535i  \n",
            "..      ...                 ...  \n",
            "88      NaN  Volkswagen Eurovan  \n",
            "89  non-USA   Volkswagen Passat  \n",
            "90  non-USA  Volkswagen Corrado  \n",
            "91  non-USA           Volvo 240  \n",
            "92  non-USA           Volvo 850  \n",
            "\n",
            "[93 rows x 27 columns]\n"
          ]
        },
        {
          "output_type": "stream",
          "name": "stderr",
          "text": [
            "/tmp/ipython-input-4083848380.py:7: FutureWarning: A value is trying to be set on a copy of a DataFrame or Series through chained assignment using an inplace method.\n",
            "The behavior will change in pandas 3.0. This inplace method will never work because the intermediate object on which we are setting values always behaves as a copy.\n",
            "\n",
            "For example, when doing 'df[col].method(value, inplace=True)', try using 'df.method({col: value}, inplace=True)' or df[col] = df[col].method(value) instead, to perform the operation inplace on the original object.\n",
            "\n",
            "\n",
            "  df['Min.Price'].fillna(df['Min.Price'].mean(), inplace=True)\n",
            "/tmp/ipython-input-4083848380.py:8: FutureWarning: A value is trying to be set on a copy of a DataFrame or Series through chained assignment using an inplace method.\n",
            "The behavior will change in pandas 3.0. This inplace method will never work because the intermediate object on which we are setting values always behaves as a copy.\n",
            "\n",
            "For example, when doing 'df[col].method(value, inplace=True)', try using 'df.method({col: value}, inplace=True)' or df[col] = df[col].method(value) instead, to perform the operation inplace on the original object.\n",
            "\n",
            "\n",
            "  df['Max.Price'].fillna(df['Max.Price'].mean(), inplace=True)\n"
          ]
        }
      ]
    },
    {
      "cell_type": "code",
      "source": [
        "# 3) How to get the rows of a dataframe with row sum > 100?\n",
        "# df = pd.DataFrame(np.random.randint(10, 40, 60).reshape(-1, 4))\n",
        "\n",
        "import pandas as pd\n",
        "df = pd.DataFrame(np.random.randint(10, 40, 60).reshape(-1, 4))\n",
        "\n",
        "filter = df[df.sum(axis=1)>100]\n",
        "\n",
        "print(filter)"
      ],
      "metadata": {
        "id": "7AQ7yJYo8kRx",
        "colab": {
          "base_uri": "https://localhost:8080/"
        },
        "outputId": "e1ca9181-190a-477c-9490-ece6bdd58c5a"
      },
      "execution_count": 11,
      "outputs": [
        {
          "output_type": "stream",
          "name": "stdout",
          "text": [
            "     0   1   2   3\n",
            "0   30  37  28  33\n",
            "1   26  32  23  20\n",
            "4   15  39  24  29\n",
            "6   20  36  18  35\n",
            "11  10  39  39  15\n",
            "14  29  26  17  35\n"
          ]
        }
      ]
    }
  ]
}